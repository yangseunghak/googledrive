{
  "nbformat": 4,
  "nbformat_minor": 0,
  "metadata": {
    "colab": {
      "name": "2번째파일.ipynb",
      "provenance": [],
      "authorship_tag": "ABX9TyOfNyIcr5p7Q/G/0F7mG/G7",
      "include_colab_link": true
    },
    "kernelspec": {
      "name": "python3",
      "display_name": "Python 3"
    },
    "language_info": {
      "name": "python"
    }
  },
  "cells": [
    {
      "cell_type": "markdown",
      "metadata": {
        "id": "view-in-github",
        "colab_type": "text"
      },
      "source": [
        "<a href=\"https://colab.research.google.com/github/yangseunghak/googledrive/blob/main/temp/2%EB%B2%88%EC%A7%B8%ED%8C%8C%EC%9D%BC.ipynb\" target=\"_parent\"><img src=\"https://colab.research.google.com/assets/colab-badge.svg\" alt=\"Open In Colab\"/></a>"
      ]
    },
    {
      "cell_type": "markdown",
      "source": [
        "ㄻㄴㄻㄴㅇㄹㅈㄷㄹㅈ"
      ],
      "metadata": {
        "id": "3R-RVKoPMRuI"
      }
    },
    {
      "cell_type": "code",
      "execution_count": null,
      "metadata": {
        "id": "T5NEyoHdMMjk"
      },
      "outputs": [],
      "source": [
        ""
      ]
    }
  ]
}